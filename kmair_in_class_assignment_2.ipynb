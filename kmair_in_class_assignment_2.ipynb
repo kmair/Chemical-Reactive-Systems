{
 "cells": [
  {
   "cell_type": "markdown",
   "metadata": {},
   "source": [
    "$$\\require{mhchem}$$       "
   ]
  },
  {
   "cell_type": "markdown",
   "metadata": {},
   "source": [
    "- You are welcome to turn in work for the mechanism derivation on a separate sheet of paper for a small penalty (2 pt). Please do so by taking a photo of the pages and uploading them to the same Box folder.  Also hand in the physical sheet of paper.\n",
    "- Label the x/y axis of graphs (and legend if appropriate)\n",
    "- Comment your code so we understand what you're doing\n",
    "- 'print' your identified solutions / fitted constants with units"
   ]
  },
  {
   "cell_type": "markdown",
   "metadata": {},
   "source": [
    "# Reverse water gas shift catalysis\n",
    "\n",
    "The reverse water gas shift reaction (rWGS) has been proposed as a way of turning waste CO$_2$ into carbon monoxide, which can be further hydrogenated to liquid fuels.  This reaction is as follows in the gas phase:\n",
    "\\begin{align}\n",
    "\\ce{CO2 + H2 <=> CO + H2O}\n",
    "\\end{align}\n",
    "The reverse water gas shift reaction is usually conducted on CuO/ZnO catalysts supported by alumina, but a group in literature suggested that a TiO$_2$ supported Pt catalyst might be more active.  You're going to help them estimate a reduced mechanism for this catalytic reaction."
   ]
  },
  {
   "cell_type": "markdown",
   "metadata": {},
   "source": [
    "##  [20 pt] The authors propose the following associative elementary reaction mechanism: \n",
    "\\begin{align*}\n",
    "\\ce{CO2(g) + S &<=>[K_{1}] CO2*S}\\\\\n",
    "\\ce{H2(g) + S &<=>[K_{2}] H2\\cdot S}\\\\\n",
    "\\ce{CO2\\cdot S + H2 \\cdot S &<=>[K_{eq}] CO\\cdot S + H2O \\cdot S}\\\\\n",
    "\\ce{CO \\cdot S &<=>[K_{4}] CO(g) + S}\\\\\n",
    "\\ce{H2O \\cdot S &<=>[K_{5}] H2O(g) + S}\n",
    "\\end{align*}\n",
    "Assuming that the third step ($\\ce{CO2\\cdot S + H2 \\cdot S <=> CO\\cdot S + H2O \\cdot S\\:}$) is rate limiting, derive the apparent reaction rate law for the this mechanism at short time conditions, where $[CO]$, $[H_2O]$, $[CO\\cdot S]$, and $[H_2O\\cdot S]$ are all ~0.  This is a heterogeneous catalytic process, so the total number of surface sites is conserved."
   ]
  },
  {
   "cell_type": "markdown",
   "metadata": {},
   "source": [
    "\\begin{align*}\n",
    "\\ce{K_{1} = CO2*S / (CO2(g) \\times S)}\\\\\n",
    "\\ce{K_{2} = H2\\cdot S / (H2(g) \\times S)}\\\\\n",
    "\\ce{S0 = S + H2 \\cdot S + CO2\\cdot S +  CO\\cdot S + H2O \\cdot S}\\\\\n",
    "\\ce{As CO \\cdot S and  H2O \\cdot S -> 0:}\\\\\n",
    "\\ce{S0 = S + H2 \\cdot S + CO2\\cdot S}\\\\\n",
    "\\ce{S0 = S + [K_{2}]H2 \\times S +[K_{1}] CO2 \\times S}\\\\\n",
    "\\ce{S = S0 / (1 + [K_{2}]H2 \\times S +[K_{1}] CO2 \\times S)}\\\\\n",
    "\\ce{r = Keq K1 K2 H2 So^2 CO2 / (1 + K_{2} H2(g) + K_{1} CO2)^2}\n",
    "\\end{align*}"
   ]
  },
  {
   "cell_type": "markdown",
   "metadata": {},
   "source": [
    "## [20 pt] We can assume simplified Langmuir Hinshelwood kinetics of the form: \n",
    "\\begin{align*}\n",
    "r=\\frac{kP_{CO2}P_{H_2}}{(1+K_1P_{CO2}+K_2P_{H_2})^2}\n",
    "\\end{align*}\n",
    "where $K_1$ is already known from other studies:  0.07/atm. Use this simplified Langmuir Hinshelwood rate law to fit values of $k$ and $K_2$ for the following data:\n",
    "\n",
    "| $P_{CO_2}$[atm] | $P_{H_2}$[atm] | Rate [mol/h/gcat] |\n",
    "|----------:|---------:|------------------:|\n",
    "|       0.9 |     0.18 |              0.037 |\n",
    "|       0.9 |     0.42 |              0.045 |\n",
    "|       0.9 |      0.6 |              0.046 |\n",
    "|       0.9 |     0.85 |              0.051 |\n",
    "|       0.9 |     0.92 |             0.0525 |\n",
    "In addition to finding $k,K_2$, also plot your fit with the data."
   ]
  },
  {
   "cell_type": "code",
   "execution_count": 30,
   "metadata": {},
   "outputs": [
    {
     "name": "stdout",
     "output_type": "stream",
     "text": [
      "Value of k = 0.370 mol/h/atm^2 /gcat and K2 = 1.554 /atm.\n"
     ]
    },
    {
     "data": {
      "image/png": "[encoded data removed]",
      "text/plain": [
       "<Figure size 432x288 with 1 Axes>"
      ]
     },
     "metadata": {},
     "output_type": "display_data"
    }
   ],
   "source": [
    "import numpy as np\n",
    "from scipy.optimize import minimize\n",
    "import matplotlib.pyplot as plt\n",
    "\n",
    "K1 = 0.07  # /atm\n",
    "PC = 0.9\n",
    "PH = np.array([0.18,0.42,0.6,0.85,0.92])\n",
    "Ra = np.array([0.037,0.045,0.046,0.051,0.0525])\n",
    "\n",
    "def rate(pars, PH):\n",
    "    k, K2 = pars\n",
    "    r = (k * PH *PC)/ (1 + K1*PC + K2*PH)**2\n",
    "    return r\n",
    "\n",
    "def sse(pars):\n",
    "    k, K2 = pars\n",
    "    sse = 0.5 * (Ra - rate(pars, PH))**2\n",
    "    SSE = np.sum(sse)\n",
    "    return SSE\n",
    "\n",
    "ans = minimize(sse, np.array([1,0.02]))\n",
    "k, K2 = ans.x\n",
    "\n",
    "print(f'Value of k = {k:1.3f} mol/h/atm^2 /gcat and K2 = {K2:1.3f} /atm.')\n",
    "PHs = np.linspace(min(PH),max(PH))\n",
    "plt.plot(PH, Ra, 'go')\n",
    "plt.plot(PHs, rate(ans.x, PHs), label = 'Fitted data')\n",
    "plt.title('Rate of reaction as a functon of pressure')\n",
    "plt.xlabel('Pressure of $H_2$')\n",
    "plt.ylabel('Rate (mol/h/gcat)')\n",
    "plt.legend()\n",
    "plt.show()"
   ]
  }
 ],
 "metadata": {
  "kernelspec": {
   "display_name": "Python 3",
   "language": "python",
   "name": "python3"
  },
  "language_info": {
   "codemirror_mode": {
    "name": "ipython",
    "version": 3
   },
   "file_extension": ".py",
   "mimetype": "text/x-python",
   "name": "python",
   "nbconvert_exporter": "python",
   "pygments_lexer": "ipython3",
   "version": "3.6.3"
  },
  "toc": {
   "base_numbering": 1,
   "nav_menu": {
    "height": "11px",
    "width": "252px"
   },
   "number_sections": true,
   "sideBar": true,
   "skip_h1_title": false,
   "title_cell": "Table of Contents",
   "title_sidebar": "Contents",
   "toc_cell": false,
   "toc_position": {},
   "toc_section_display": "block",
   "toc_window_display": false
  }
 },
 "nbformat": 4,
 "nbformat_minor": 2
}
