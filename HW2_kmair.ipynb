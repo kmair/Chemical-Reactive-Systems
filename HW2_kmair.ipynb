{
 "cells": [
  {
   "cell_type": "markdown",
   "metadata": {},
   "source": [
    "$$\\require{mhchem}$$       "
   ]
  },
  {
   "cell_type": "markdown",
   "metadata": {},
   "source": [
    "# Catalyst deactivation in a batch reactor"
   ]
  },
  {
   "cell_type": "markdown",
   "metadata": {},
   "source": [
    "Consider the irreversible, liquid-phase isomerization reaction carried out in a solvent containing dissolved catalyst at 25 C in a batch reactor:\n",
    "\\begin{align*}\n",
    "\\ce{B ->[k_b] C}\n",
    "\\end{align*}\n",
    "The apparent first-order reaction rate constant $k_b$ decreases with time because of catalyst deterioriation. A chemist friend of yours has studied the catalyst deactivation process and has proposed that it can be modeled with\n",
    "\\begin{align*}\n",
    "k_b = \\frac{k}{1+k_dt}\n",
    "\\end{align*}\n",
    "in which $k$ is the fresh catalyst rate constant and $k_d$ is the deactivation rate constant. "
   ]
  },
  {
   "cell_type": "markdown",
   "metadata": {},
   "source": [
    "## Write down the mole balance for this reactor and initial conditions."
   ]
  },
  {
   "cell_type": "markdown",
   "metadata": {},
   "source": [
    "\\begin{align*}\n",
    "\\ce{B -> C}\n",
    "\\end{align*}\n",
    "\n",
    "At t = 0:    &nbsp;&nbsp;&nbsp;&nbsp;&nbsp;&nbsp;&nbsp;&nbsp;&nbsp;&nbsp;&nbsp;&nbsp;&nbsp;&nbsp;&nbsp;&nbsp;&nbsp; &nbsp;&nbsp;&nbsp;&nbsp;&nbsp;&nbsp;&nbsp;&nbsp;&nbsp;&nbsp;&nbsp;&nbsp;&nbsp;&nbsp;&nbsp;&nbsp;&nbsp;&nbsp;&nbsp;&nbsp;&nbsp;&nbsp;&nbsp;&nbsp;&nbsp;&nbsp;&nbsp;&nbsp;&nbsp;&nbsp;&nbsp;&nbsp;&nbsp;&nbsp;&nbsp;&nbsp;&nbsp;&nbsp;&nbsp;&nbsp;&nbsp;&nbsp;&nbsp;&nbsp;&nbsp;&nbsp;&nbsp;&nbsp;&nbsp;&nbsp;&nbsp;&nbsp;&nbsp;&nbsp;&nbsp;&nbsp;&nbsp;&nbsp;&nbsp;&nbsp;&nbsp;&nbsp;&nbsp;&nbsp;&nbsp;&nbsp;&nbsp;&nbsp;&nbsp;&nbsp;&nbsp;&nbsp;&nbsp;&nbsp;&nbsp;&nbsp;&nbsp;&nbsp;&nbsp;&nbsp;&nbsp;&nbsp;&nbsp;&nbsp;&nbsp;&nbsp;&nbsp;&nbsp; $N_b$ &nbsp;&nbsp;&nbsp;&nbsp;&nbsp; 0\n",
    "\n",
    "At t = t:    &nbsp;&nbsp;&nbsp;&nbsp;&nbsp;&nbsp;&nbsp;&nbsp;&nbsp;&nbsp;&nbsp;&nbsp;&nbsp;&nbsp;&nbsp;&nbsp; &nbsp;&nbsp;&nbsp;&nbsp;&nbsp;&nbsp;&nbsp;&nbsp;&nbsp;&nbsp;&nbsp;&nbsp;&nbsp;&nbsp;&nbsp;&nbsp;&nbsp;&nbsp;&nbsp;&nbsp;&nbsp;&nbsp;&nbsp;&nbsp;&nbsp;&nbsp;&nbsp;&nbsp;&nbsp;&nbsp;&nbsp;&nbsp;&nbsp;&nbsp;&nbsp;&nbsp;&nbsp;&nbsp;&nbsp;&nbsp;&nbsp;&nbsp;&nbsp;&nbsp;&nbsp;&nbsp;&nbsp;&nbsp;&nbsp;&nbsp;&nbsp;&nbsp;&nbsp;&nbsp;&nbsp;&nbsp;&nbsp;&nbsp;&nbsp;&nbsp;&nbsp;&nbsp;&nbsp;&nbsp;&nbsp;&nbsp;&nbsp;&nbsp;&nbsp;&nbsp;&nbsp;&nbsp;&nbsp;&nbsp;&nbsp;&nbsp;&nbsp;&nbsp;&nbsp;&nbsp;&nbsp;&nbsp;$N_b - \\Delta N_b$ &nbsp; $\\Delta N_b$\n",
    "\n",
    "If the reaction has complete conversion: &nbsp;&nbsp;&nbsp;&nbsp;&nbsp;&nbsp;&nbsp;&nbsp;&nbsp;&nbsp;&nbsp;&nbsp;&nbsp;&nbsp;&nbsp;&nbsp;&nbsp;&nbsp;&nbsp;&nbsp;&nbsp;&nbsp;&nbsp;&nbsp;&nbsp;&nbsp;&nbsp;&nbsp;&nbsp;&nbsp;&nbsp;&nbsp;&nbsp;&nbsp;&nbsp;&nbsp;&nbsp;&nbsp;&nbsp;&nbsp;&nbsp;&nbsp;&nbsp;&nbsp;&nbsp;&nbsp;&nbsp;&nbsp;&nbsp;&nbsp;&nbsp;&nbsp;&nbsp;&nbsp;&nbsp;&nbsp;&nbsp;&nbsp;0&nbsp;&nbsp;&nbsp;&nbsp;&nbsp;&nbsp; $N_b$\n",
    "\n",
    "The relationship for mole consumption is:\n",
    "<center> $\\displaystyle - \\frac{dN_B}{dt} = \\frac{dN_C}{dt} $\n",
    "\n",
    "In mole balances,\n",
    "<center>Accumulation = Feed in - Feed out + Generation\n",
    "\n",
    "\n",
    "Since we don't have any feed for batch reactor, it simplifies to: Accumulation = Generation\n",
    "\n",
    "<center> $\\displaystyle \\frac{dN_B}{dt} = r_B V $\n",
    "\n",
    "Being first order, $r_B = -kC_B$\n",
    "<center> $\\displaystyle\\therefore \\frac{dC_B}{dt}  = - k_bC_B $\n"
   ]
  },
  {
   "cell_type": "markdown",
   "metadata": {},
   "source": [
    "## If we're only interested in % conversion of B, does it matter what the initial concentration of B is? Why?"
   ]
  },
  {
   "cell_type": "markdown",
   "metadata": {},
   "source": [
    "No,it does not affect.\n",
    "\n",
    "The % conversion of a first order reaction isn't influenced by the concentration of reactant, even though the catalyst undergoes deactivation. It can be seen as follows:\n",
    "\n",
    "$\\displaystyle\\frac{dC_B}{dt} = r_b = -k_bC_B$\n",
    "\n",
    "Now, $C_B = C_{B0} (1 - x_B)$\n",
    "\n",
    "Substuting in above equation, we get:\n",
    "$\\displaystyle\\int \\frac{dx_B}{1-x_B} = \\int \\frac{k}{1 + k_dt}dt$\n",
    "\n",
    "Hence the conversion of B is inpendent of the initial concentration of B."
   ]
  },
  {
   "cell_type": "markdown",
   "metadata": {},
   "source": [
    "## Assume an initial concentration of $C_B$ and solve the mole balance for $C_B(t)$ assuming $k$=0.6/hr and $k_d$=2/hr. Plot the conversion % for your solution."
   ]
  },
  {
   "cell_type": "code",
   "execution_count": 3,
   "metadata": {},
   "outputs": [
    {
     "data": {
      "image/png": "[encoded data removed]",
      "text/plain": [
       "<Figure size 432x288 with 1 Axes>"
      ]
     },
     "metadata": {},
     "output_type": "display_data"
    }
   ],
   "source": [
    "import numpy as np\n",
    "from scipy.integrate import odeint\n",
    "import matplotlib.pyplot as plt\n",
    "\n",
    "k = 0.6 # /hr\n",
    "kd = 2  # /hr\n",
    "\n",
    "t = np.linspace(0, 100)  # hr\n",
    "x0 = 0\n",
    "\n",
    "def X(x, t):\n",
    "    dxdt = (100 - x) * [k / (1 + kd * t)]\n",
    "    return dxdt\n",
    "\n",
    "sol = odeint(X, x0, t)\n",
    "\n",
    "# Graph\n",
    "plt.plot(t, sol, label = 'Conversion(%)')\n",
    "plt.title('Conversion of B to C as a function of time')\n",
    "plt.xlabel('Time (in hours)')\n",
    "plt.ylabel('Conversion (in %)')\n",
    "plt.legend()\n",
    "plt.show()"
   ]
  },
  {
   "cell_type": "markdown",
   "metadata": {},
   "source": [
    "## If it takes two hours to reach 50% conversion and the fresh catalyst has a rate constant of 0.6/hr what is the actual $k_d$?"
   ]
  },
  {
   "cell_type": "code",
   "execution_count": 4,
   "metadata": {},
   "outputs": [
    {
     "name": "stdout",
     "output_type": "stream",
     "text": [
      "For the present scenario here, the reaction will take 2 hours to get 50% conversion if kd = 0.877/hr\n"
     ]
    }
   ],
   "source": [
    "import numpy as np\n",
    "from scipy.integrate import odeint\n",
    "from scipy.optimize import fsolve\n",
    "from scipy.integrate import quad\n",
    "\n",
    "Cb0 = 2 # M\n",
    "k = 0.6 # /hr\n",
    "tend = 2  # hr\n",
    "\n",
    "def Int_X(x):\n",
    "    return 1/ (100 - x)\n",
    "\n",
    "I1, _ = quad(Int_X, 0, 50)\n",
    "I1\n",
    "\n",
    "def sol(kd):\n",
    "    \n",
    "    def Int_t(t):\n",
    "        return k / (1 + kd * t)\n",
    "    \n",
    "    kspan = np.linspace(0, kd)\n",
    "    I2, _ = quad(Int_t, 0, tend)\n",
    "    z = I1 - I2\n",
    "    \n",
    "    return z\n",
    "\n",
    "ans, = fsolve(sol, 0.8)\n",
    "#ans = np.round(ans,3)\n",
    "print(f'For the present scenario here, the reaction will take 2 hours to get\\\n",
    " 50% conversion if kd = {ans:1.3f}/hr')\n"
   ]
  },
  {
   "cell_type": "markdown",
   "metadata": {},
   "source": [
    "## Using $k_d$ from 1.3, how long does it take to reach 75% conversion?"
   ]
  },
  {
   "cell_type": "code",
   "execution_count": 5,
   "metadata": {},
   "outputs": [
    {
     "name": "stdout",
     "output_type": "stream",
     "text": [
      "The reaction takes 50.297 hours to achieve 75% conversion\n"
     ]
    }
   ],
   "source": [
    "import numpy as np\n",
    "from scipy.integrate import odeint\n",
    "from scipy.optimize import fsolve\n",
    "import matplotlib.pyplot as plt\n",
    "\n",
    "k = 0.6 # /hr\n",
    "kd = 2  # /hr\n",
    "\n",
    "def X(x, t):\n",
    "    dxdt = (100 - x) * [k / (1 + kd * t)]\n",
    "    return dxdt\n",
    "\n",
    "def f(t):\n",
    "    tspan = np.linspace(0, t)\n",
    "    x0 = 0\n",
    "    sol = odeint(X, x0, tspan)\n",
    "    z = 75 - sol\n",
    "    return z[-1]\n",
    "\n",
    "\n",
    "ans= fsolve(f, 4.0)\n",
    "print(f'The reaction takes{ans[0]: 1.3f} hours to achieve 75% conversion')"
   ]
  },
  {
   "cell_type": "markdown",
   "metadata": {},
   "source": [
    "## Say that we can stop the batch process after 2 hours, filter the spent catalyst, and replace with fresh catalyst. Solve and plot for $C_B(t)$ over 5 hours, and include the plot with the catalyst refresh. Include a legend on the plot to label each solution"
   ]
  },
  {
   "cell_type": "code",
   "execution_count": 6,
   "metadata": {},
   "outputs": [
    {
     "name": "stdout",
     "output_type": "stream",
     "text": [
      "For initial concentration of B = 1 M\n"
     ]
    },
    {
     "data": {
      "image/png": "[encoded data removed]",
      "text/plain": [
       "<Figure size 432x288 with 1 Axes>"
      ]
     },
     "metadata": {},
     "output_type": "display_data"
    }
   ],
   "source": [
    "import numpy as np\n",
    "from scipy.integrate import odeint\n",
    "import matplotlib.pyplot as plt\n",
    "\n",
    "Cb0 = 1 # M\n",
    "k = 0.6 # /hr\n",
    "kd = 2  # /hr\n",
    "\n",
    "t1 = np.linspace(0, 2)  # hr\n",
    "x0 = 0\n",
    "\n",
    "def X1(x, t1):\n",
    "    dxdt1 = (1 - x) * [k / (1 + kd * t1)]\n",
    "    return dxdt1\n",
    "\n",
    "x1 = odeint(X1, x0, t1)\n",
    "Cb1 = Cb0 * (1 - x1)\n",
    "\n",
    "t2 = np.linspace(2, 5)\n",
    "\n",
    "def X2(x, t2):\n",
    "    dxdt2 = (1 - x) * [k / (1 + kd * (t2 - 2))]\n",
    "    return dxdt2\n",
    "\n",
    "x2 = odeint(X2, x0, t2)\n",
    "Cb2 = Cb1[-1] * (1 - x2)\n",
    "\n",
    "print('For initial concentration of B = 1 M')\n",
    "# Graph\n",
    "plt.plot(t1, Cb1, color = 'green', label='w')\n",
    "plt.plot(t2, Cb2)\n",
    "plt.title('Concentration of B as a function of time')\n",
    "plt.xlabel('Time (in hours)')\n",
    "plt.ylabel('Concentration (in M)')\n",
    "plt.legend(['Original Catalyst', 'Refresh Catalyst'])\n",
    "plt.show()"
   ]
  },
  {
   "cell_type": "markdown",
   "metadata": {},
   "source": [
    "# Transient CSTR "
   ]
  },
  {
   "cell_type": "markdown",
   "metadata": {},
   "source": [
    "Consider a first-order liquid-phase elementary reaction in an isothermal CSTR\n",
    "\\begin{align*}\n",
    "\\ce{A ->[k] 2B}\n",
    "\\end{align*}\n",
    "The feed concentration of A is $C_{Af}=2$mol/L, the volume of the reactor is 100 L, the flow rate is 3L/min, and the rate constant is $k=0.1$/min. "
   ]
  },
  {
   "cell_type": "markdown",
   "metadata": {},
   "source": [
    "## Write the mole balance for A in this reactor"
   ]
  },
  {
   "cell_type": "markdown",
   "metadata": {},
   "source": [
    "\\begin{align*}\n",
    "\\ce{A -> 2B}\n",
    "\\end{align*}\n",
    "\n",
    "At t = 0:    &nbsp;&nbsp;&nbsp;&nbsp;&nbsp;&nbsp;&nbsp;&nbsp;&nbsp;&nbsp;&nbsp;&nbsp;&nbsp;&nbsp;&nbsp;&nbsp;&nbsp; &nbsp;&nbsp;&nbsp;&nbsp;&nbsp;&nbsp;&nbsp;&nbsp;&nbsp;&nbsp;&nbsp;&nbsp;&nbsp;&nbsp;&nbsp;&nbsp;&nbsp;&nbsp;&nbsp;&nbsp;&nbsp;&nbsp;&nbsp;&nbsp;&nbsp;&nbsp;&nbsp;&nbsp;&nbsp;&nbsp;&nbsp;&nbsp;&nbsp;&nbsp;&nbsp;&nbsp;&nbsp;&nbsp;&nbsp;&nbsp;&nbsp;&nbsp;&nbsp;&nbsp;&nbsp;&nbsp;&nbsp;&nbsp;&nbsp;&nbsp;&nbsp;&nbsp;&nbsp;&nbsp;&nbsp;&nbsp;&nbsp;&nbsp;&nbsp;&nbsp;&nbsp;&nbsp;&nbsp;&nbsp;&nbsp;&nbsp;&nbsp;&nbsp;&nbsp;&nbsp;&nbsp;&nbsp;&nbsp;&nbsp;&nbsp;&nbsp;&nbsp;&nbsp;&nbsp;&nbsp;&nbsp;&nbsp;&nbsp;&nbsp;&nbsp;&nbsp;&nbsp; $N_{Af}$ &nbsp;&nbsp;&nbsp;&nbsp;&nbsp; 0\n",
    "\n",
    "At t = t:    &nbsp;&nbsp;&nbsp;&nbsp;&nbsp;&nbsp;&nbsp;&nbsp;&nbsp;&nbsp;&nbsp;&nbsp;&nbsp;&nbsp;&nbsp;&nbsp; &nbsp;&nbsp;&nbsp;&nbsp;&nbsp;&nbsp;&nbsp;&nbsp;&nbsp;&nbsp;&nbsp;&nbsp;&nbsp;&nbsp;&nbsp;&nbsp;&nbsp;&nbsp;&nbsp;&nbsp;&nbsp;&nbsp;&nbsp;&nbsp;&nbsp;&nbsp;&nbsp;&nbsp;&nbsp;&nbsp;&nbsp;&nbsp;&nbsp;&nbsp;&nbsp;&nbsp;&nbsp;&nbsp;&nbsp;&nbsp;&nbsp;&nbsp;&nbsp;&nbsp;&nbsp;&nbsp;&nbsp;&nbsp;&nbsp;&nbsp;&nbsp;&nbsp;&nbsp;&nbsp;&nbsp;&nbsp;&nbsp;&nbsp;&nbsp;&nbsp;&nbsp;&nbsp;&nbsp;&nbsp;&nbsp;&nbsp;&nbsp;&nbsp;&nbsp;&nbsp;&nbsp;&nbsp;&nbsp;&nbsp;&nbsp;&nbsp;&nbsp;&nbsp;&nbsp;&nbsp;&nbsp;&nbsp;$N_{Af} - \\Delta N_A$ &nbsp; $2\\Delta N_A$\n",
    "\n",
    "The mole balance between A and B is:\n",
    "<center> $\\displaystyle -2 \\frac{dN_A}{dt} = \\frac{dN_B}{dt} $\n",
    "\n",
    "In this transient CSTR,\n",
    "<center> Accumulation = Feed in - Feed out + Generation\n",
    "<center> $\\displaystyle \\frac{dN_A}{dt} = FC_{Af} - FC_A + r_A V $\n",
    "\n",
    "Being first order, $r_A = -kC_A$\n",
    "<center> $\\displaystyle\\therefore \\frac{dC_A}{dt} = \\frac{F}{V}(C_{Af} - C_A) - kC_A  $\n"
   ]
  },
  {
   "cell_type": "markdown",
   "metadata": {},
   "source": [
    "## Find the steady state concentration of A"
   ]
  },
  {
   "cell_type": "code",
   "execution_count": 7,
   "metadata": {},
   "outputs": [
    {
     "name": "stdout",
     "output_type": "stream",
     "text": [
      "The steady state concentration of A is: 0.462 mol/L.\n"
     ]
    }
   ],
   "source": [
    "V = 100 # L\n",
    "F = 3   # L/min\n",
    "k = 0.1 # /min\n",
    "C_Af = 2 # mol/L\n",
    "\n",
    "tao = V / F  # min\n",
    "\n",
    "def f(C_A):\n",
    "    z = C_A - C_Af + k * C_A * tao\n",
    "    return z\n",
    "\n",
    "ssconc, = fsolve(f, 2.0, full_output=0)\n",
    "print('The steady state concentration of A is:', f'{ssconc:1.3f}', 'mol/L.')\n"
   ]
  },
  {
   "cell_type": "markdown",
   "metadata": {},
   "source": [
    "## Plot the concentration of A versus time for constant feed concentration if initial concentration of A and B is 0 mol/L over 20 hours. Also include a horizontal black dashed line indicating the steady state concentration."
   ]
  },
  {
   "cell_type": "code",
   "execution_count": 8,
   "metadata": {},
   "outputs": [
    {
     "data": {
      "image/png": "[encoded data removed]",
      "text/plain": [
       "<Figure size 432x288 with 1 Axes>"
      ]
     },
     "metadata": {},
     "output_type": "display_data"
    }
   ],
   "source": [
    "import numpy as np\n",
    "\n",
    "C_A0 = 0\n",
    "t = np.linspace(0, 20)   # min\n",
    "\n",
    "def g(C_A, t):\n",
    "    dCAdt = (C_Af - C_A) / tao - k * C_A\n",
    "    return dCAdt\n",
    "\n",
    "concA = odeint(g, C_A0, t)\n",
    "\n",
    "# Graph\n",
    "plt.plot(t, concA, label = 'Concentration of A')\n",
    "plt.plot(t,t*0+0.462,'--k', label = 'Steady state concentration')\n",
    "plt.title('Concentration of A as a function of time')\n",
    "plt.xlabel('Time (in min)')\n",
    "plt.ylabel('Conversion (in %)')\n",
    "plt.legend()\n",
    "plt.show()"
   ]
  },
  {
   "cell_type": "markdown",
   "metadata": {},
   "source": [
    "## Plot the concentration of A versus time for constant feed concentration if initial concentration of A and B is 2 mol/L"
   ]
  },
  {
   "cell_type": "code",
   "execution_count": 9,
   "metadata": {},
   "outputs": [
    {
     "data": {
      "image/png": "[encoded data removed]",
      "text/plain": [
       "<Figure size 432x288 with 1 Axes>"
      ]
     },
     "metadata": {},
     "output_type": "display_data"
    }
   ],
   "source": [
    "import numpy as np\n",
    "\n",
    "C_A0 = 2\n",
    "t = np.linspace(0, 20)  # min\n",
    "\n",
    "def g(C_A, t):\n",
    "    dCAdt = (C_Af - C_A) / tao - k * C_A\n",
    "    return dCAdt\n",
    "\n",
    "concA = odeint(g, C_A0, t)\n",
    "\n",
    "# Graph\n",
    "plt.plot(t, concA, label = '$C_A$')\n",
    "plt.title('Concentration of A as a function of time')\n",
    "plt.xlabel('Time (in min)')\n",
    "plt.ylabel('Conversion (in %)')\n",
    "plt.legend()\n",
    "plt.show()"
   ]
  },
  {
   "cell_type": "markdown",
   "metadata": {},
   "source": [
    "## For 2.3, how long does it take to reach 75% of the steady state conversion?"
   ]
  },
  {
   "cell_type": "code",
   "execution_count": 11,
   "metadata": {
    "scrolled": true
   },
   "outputs": [
    {
     "name": "stdout",
     "output_type": "stream",
     "text": [
      "It takes 10.664 minutes to achieve 75% of the steady state conversion.\n"
     ]
    }
   ],
   "source": [
    "import numpy as np\n",
    "from scipy.integrate import odeint\n",
    "from scipy.optimize import fsolve\n",
    "import matplotlib.pyplot as plt\n",
    "\n",
    "V = 100 # L\n",
    "F = 3   # L/min\n",
    "k = 0.1 # /min\n",
    "C_Af = 2 # mol/L\n",
    "\n",
    "tao = V / F\n",
    "Creq = 0.75 * ssconc\n",
    "\n",
    "def g(C_A, t):\n",
    "    dCAdt = (C_Af - C_A) / tao - k * C_A\n",
    "    return dCAdt\n",
    "\n",
    "def h(t):\n",
    "    tspan = np.linspace(0, t)\n",
    "    C_A0 = 0\n",
    "    concA = odeint(g, C_A0, tspan)\n",
    "    z = Creq - concA\n",
    "    return z[-1]\n",
    "\n",
    "ans, = fsolve(h, 6)\n",
    "print(f'It takes {ans:1.3f} minutes to achieve 75% of the steady state \\\n",
    "conversion.')\n"
   ]
  }
 ],
 "metadata": {
  "kernelspec": {
   "display_name": "Python 3",
   "language": "python",
   "name": "python3"
  },
  "language_info": {
   "codemirror_mode": {
    "name": "ipython",
    "version": 3
   },
   "file_extension": ".py",
   "mimetype": "text/x-python",
   "name": "python",
   "nbconvert_exporter": "python",
   "pygments_lexer": "ipython3",
   "version": "3.6.3"
  },
  "toc": {
   "base_numbering": 1,
   "nav_menu": {
    "height": "244px",
    "width": "252px"
   },
   "number_sections": true,
   "sideBar": true,
   "skip_h1_title": false,
   "title_cell": "Table of Contents",
   "title_sidebar": "Contents",
   "toc_cell": false,
   "toc_position": {},
   "toc_section_display": "block",
   "toc_window_display": false
  }
 },
 "nbformat": 4,
 "nbformat_minor": 2
}
