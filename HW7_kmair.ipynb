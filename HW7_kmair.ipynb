{
 "cells": [
  {
   "cell_type": "markdown",
   "metadata": {},
   "source": [
    "$$\\require{mhchem}$$"
   ]
  },
  {
   "cell_type": "markdown",
   "metadata": {},
   "source": [
    "# Mechanism elucidation (6 pts)\n",
    "\n",
    "For the overall mechanism \n",
    "\\begin{align*}\n",
    "\\ce{2NO2 -> 2NO + O2}\n",
    "\\end{align*}\n",
    "and the postulated mechanism\n",
    "\\begin{align*}\n",
    "\\ce{NO2 ->[k_1] NO + O}\\\\\n",
    "\\ce{O + NO2 <-> [k_{2},k_{-2}] NO3}\\\\\n",
    "\\ce{NO3 + NO2 ->[k_3] NO + O2 + NO2}\\\\\n",
    "\\ce{NO3 + NO ->[k_4] 2NO2}\\\\\n",
    "\\ce{O + NO2 ->[k_5] NO + O2}\n",
    "\\end{align*}\n",
    "Derive the reduced mechanism assuming $\\ce{NO3}$ and $\\ce{O}$ are short-lived radical species"
   ]
  },
  {
   "cell_type": "markdown",
   "metadata": {},
   "source": [
    "Let the rate of all the reactions sequentially be:\n",
    "\n",
    "$r_1 = k_1 C_{NO_2}$\n",
    "\n",
    "$r_2 = k_2C_O C_{NO_2}-k_{-2}C_{NO_3}$\n",
    "\n",
    "$r_3 = k_3 C_{NO_3}C_{NO_2}$\n",
    "\n",
    "$r_4 = k_4 C_{NO_3}C_{NO}$\n",
    "\n",
    "$r_5 = k_5 C_{NO}C_{NO_2}$\n",
    "\n",
    "Since NO_3  and O are short-lived radical species, their total rate of accumulation is 0. Thus,\n",
    "\n",
    "$r_{NO_3} = 0 = r_2 - r_3 - r_4$                                                                                 ...(1)\n",
    "\n",
    "$r_{O} = 0 = r_1 - r_2 - r_5$                                                                                    ...(2)\n",
    "\n",
    "Obtaining $C_{NO_3}$ and $C_O$ from equations (1) and (2) respectively as:\n",
    "\n",
    "$C_{NO_3} = \\displaystyle\\frac{k_2C_OC_{NO_2}}{k_{-2}+ k_3C_{NO_2} + k_4 C_{NO}}$                                ...(3)\n",
    "\n",
    "$C_{O} = \\displaystyle\\frac{k_1C_{NO_2}+k_{-2}C_{NO_3}}{k_2C_{NO_2} + k_5 C_{NO_2}}$                             ...(4)\n",
    "\n",
    "Substituting $C_{NO_3}$ obtained from equation (3) in equation (4), we get:\n",
    "\n",
    "$C_{O} = \\displaystyle\\frac{k_1C_{NO_2}+k_{-2}\\displaystyle\\frac{k_2C_OC_{NO_2}}{k_{-2}+ k_3C_{NO_2} + k_4 C_{NO}}}{k_2C_{NO_2} + k_5 C_{NO_2}}$\n",
    "\n",
    "Solving further, we finally get:\n",
    "<div class=\"alert alert-warning\">\n",
    "$C_{O} = \\displaystyle\\frac{k_1(k_{-2}+ k_3C_{NO_2} + k_4 C_{NO})}{k_2k_3C_{NO_2} + k_2k_4C_{NO} + k_{-2}k_5 + k_3k_5C_{NO_2} + k_4k_5C_{NO}} = f(C_{NO}, C_{NO_2})$                                                                             ...(5)\n",
    "</div>\n",
    "Substituting this value of $C_O$ in equation 3, we get:\n",
    "\n",
    "<div class=\"alert alert-warning\">\n",
    "$C_{NO_3} = \\displaystyle\\frac{k_1k_2C_{NO_2}}{(k_2k_3C_{NO_2} + k_2k_4C_{NO} + k_{-2}k_5 + k_3k_5C_{NO_2} + k_4k_5C_{NO})} = g(C_{NO}, C_{NO_2})$   ...(6)\n",
    "</div>\n",
    "\n",
    "Hence, using these values we can compute the rate equations independent of the intermediate concentrations.\n",
    "\n",
    "The rate of production of Oxygen is: $r_{O_2} = r_3 + r_5$\n",
    "\n",
    "$\\therefore r_{O_2} = k_5 C_{NO_2}(C_{NO} + \\displaystyle\\frac{k_1k_2C_{NO_2}}{k_2k_3C_{NO_2} + k_2k_4C_{NO} + k_{-2}k_5 + k_3k_5C_{NO_2} + k_4k_5C_{NO}})$"
   ]
  },
  {
   "cell_type": "markdown",
   "metadata": {},
   "source": [
    "# Catalyst rate laws (12 pts, completion)\n",
    "\n",
    "t-butyl alcohol (TBA) is an important enhancer that is used to replace lead additives in gasoline.\n",
    "TBA was produced by the liquid-phase hydration (W) of isobutene (I) over an Amberlyst-15 catalyst (S).\n",
    "The system is normally a multiphase mixture of hydrocarbon, water, and solid catalysts. \n",
    "The use of cosolvents or excess TBA can achieve reasonable miscibility of this mixture.\n",
    "The mechanism is believed to be:\n",
    "\\begin{align}\n",
    "\\ce{ I + S &<=> I\\cdot S}\\\\\n",
    "\\ce{ W + S &<=> W\\cdot S}\\\\\n",
    "\\ce{ W\\cdot S + I \\cdot S &<=> TBA\\cdot S + S}\\\\\n",
    "\\ce{TBA\\cdot S &<=> TBA + S}\n",
    "\\end{align}\n",
    "For each reaction assume a rate constant $k_i$ and an equilibrium constant $K_i$."
   ]
  },
  {
   "cell_type": "markdown",
   "metadata": {},
   "source": [
    "For any reaction 'i' if forward rate constant = $k_i$ with an equilibrium constant $K_i$, then the backward rate constant ($k_{-i}$)= $k_i$ / $K_i$\n",
    "\n",
    "The rate of each of the 4 reactions are as follows:\n",
    "\n",
    "$r_1 = k_1C_I C_S - k_{-1} C_{I S} = k_1(C_I C_S - \\displaystyle\\frac{C_{I S}}{K_1})$    ...(1)\n",
    "\n",
    "$r_2 = k_2(C_W C_S - \\displaystyle\\frac{C_{W S}}{K_2})$   ...(2)\n",
    "\n",
    "$r_3 = k_3(C_{WS} C_{IS} - \\displaystyle\\frac{C_{TS}C_S}{K_3})$ ; T signifies TBA  ...(3)\n",
    "\n",
    "$r_4 = k_4(C_{TS} - \\displaystyle\\frac{C_{TS}C_S}{K_4})$    ...(4)"
   ]
  },
  {
   "cell_type": "markdown",
   "metadata": {},
   "source": [
    "## Derive a rate law assuming assuming the surface reaction is rate-limiting (3 points)."
   ]
  },
  {
   "cell_type": "markdown",
   "metadata": {},
   "source": [
    "Since surface reaction is rate-limiting, the rate law will be defined by equation 3.\n",
    "\n",
    "The other 3 reactions would approach equilibrium conditions such that: $\\displaystyle\\frac{r_i}{k_i} \\approx 0$\n",
    "\n",
    "Thus, using this in equations 1, 2 and 4, we get:\n",
    "\n",
    "$(C_I C_S - \\displaystyle\\frac{C_{I S}}{K_1}) = 0$  $=> C_{I S} = K_1C_I C_S$   ...(1a)\n",
    "\n",
    "Similarly, $C_{WS} = K_2C_W C_S$;   ...(1b)\n",
    "     \n",
    "and $C_{TS} = \\displaystyle\\frac{C_T C_S}{K_4}$    ...(1c)\n",
    "\n",
    "Substituting equation 1a, 1b and 1c into rate equation, we get:\n",
    "\n",
    "$r = r_3 = k_3(K_1C_IC_S \\times K_2C_WC_S - \\displaystyle\\frac{C_T C_S}{K_4}\\times \\displaystyle\\frac{C_S}{K_3})$\n",
    "\n",
    "$ r =  k_3C_S^2(K_1C_I \\times K_2C_W - \\displaystyle\\frac{C_T}{K_4K_3})$\n",
    "\n",
    "Since $C_S$ can't be found but we know the total number of sites $C_{S,t}$ as:\n",
    "\n",
    "$C_{S,t} = C_S + C_{IS} + C_{WS}+ C_{TS} = C_S (1 + K_1C_I + K_2C_W + \\displaystyle\\frac{C_T}{K_4})$\n",
    "\n",
    "$=> C_S = \\displaystyle\\frac{C_{S,t}}{1 + K_1C_I + K_2C_W + \\displaystyle\\frac{C_T}{K_4}}$\n",
    "\n",
    "<div class=\"alert alert-warning\">\n",
    "$\\therefore r =  k_3 (\\displaystyle\\frac{C_{S,t}}{1 + K_1C_I + K_2C_W + \\displaystyle\\frac{C_T}{K_4}})^2(K_1C_I \\times K_2C_W - \\displaystyle\\frac{C_T}{K_4K_3})$\n",
    "</div>"
   ]
  },
  {
   "cell_type": "markdown",
   "metadata": {},
   "source": [
    "## Derive a rate law assuming assuming the adsorption of isobutene is rate-limiting (3 points)."
   ]
  },
  {
   "cell_type": "markdown",
   "metadata": {},
   "source": [
    "Since adsorption of isobutene is rate-limiting, the rate law will be defined by equation 1.\n",
    "\n",
    "The other 3 reactions would approach equilibrium conditions such that: $\\displaystyle\\frac{r_i}{k_i} \\approx 0$\n",
    "\n",
    "Thus, using this in equations 2, 3 and 4 we get:\n",
    "\n",
    "$C_{WS} = K_2C_W C_S$;   ...(2a)\n",
    "\n",
    "$C_{IS} = \\displaystyle\\frac{C_{T S}C_S}{K_3C_{WS}}$; and   ...(2b)\n",
    "     \n",
    "$C_{TS} = \\displaystyle\\frac{C_T C_S}{K_4}$    ...(2c)\n",
    "\n",
    "Using equation 2a, 2b and 2c into rate equation, we get:\n",
    "\n",
    "$r = r_1 = k_1(C_I C_S - \\displaystyle\\frac{C_TC_S^2}{K_4K_3K_2C_WC_S}) = k_1C_S(C_I- \\displaystyle\\frac{C_T}{K_4K_3K_2C_W})$\n",
    "\n",
    "Since $C_S$ can't be found but we know the total number of sites $C_{S,t}$ as:\n",
    "\n",
    "$C_{S,t} = C_S + C_{IS} + C_{WS}+ C_{TS} = C_S (1 + \\displaystyle\\frac{C_T}{K_4K_3K_2C_W} + \\frac{C_T}{K_4} + K_2C_W)$\n",
    "\n",
    "<div class=\"alert alert-warning\">\n",
    "$\\therefore r =  k_1\\displaystyle\\frac{C_{S,t}}{(1 + \\displaystyle\\frac{C_T}{K_4K_3K_2C_W} + \\frac{C_T}{K_4} + K_2C_W)}(C_I- \\frac{C_T}{K_4K_3K_2C_W})$"
   ]
  },
  {
   "cell_type": "markdown",
   "metadata": {},
   "source": [
    "## Derive a rate law assuming the reaction follows Eley-Rideal kinetics; assume the surface reaction is rate limiting and that $W$ no longer adsorbs (3 points).\n",
    "\\begin{align}\n",
    "\\ce{I\\cdot S + W &<=> TBA\\cdot S}\\\\\n",
    "\\end{align}"
   ]
  },
  {
   "cell_type": "markdown",
   "metadata": {},
   "source": [
    "The mechanism following Eley-Rideal kinetics is:\n",
    "\\begin{align}\n",
    "\\ce{ I + S &<=> I\\cdot S}\\\\\n",
    "\\ce{ W + I \\cdot S &<=> TBA\\cdot S}\\\\\n",
    "\\ce{TBA\\cdot S &<=> TBA + S}\n",
    "\\end{align}\n"
   ]
  },
  {
   "cell_type": "markdown",
   "metadata": {},
   "source": [
    "The rate of each of the 3 reactions are as follows:\n",
    "\n",
    "$r_1 = k_1C_I C_S - k_{-1} C_{I S} = k_1(C_I C_S - \\displaystyle\\frac{C_{I S}}{K_1})$    ...(1)\n",
    "\n",
    "$r_2 = k_2(C_W C_{IS} - \\displaystyle\\frac{C_{TS}}{K_2})$ ; T signifies TBA  ...(2)\n",
    "\n",
    "$r_3 = k_3(C_{TS} - \\displaystyle\\frac{C_TC_S}{K_3})$    ...(3)\n",
    "\n",
    "Since surface reaction is rate-limiting, the rate law will be defined by equation 2.\n",
    "\n",
    "The other 2 reactions would approach equilibrium conditions such that: $\\displaystyle\\frac{r_i}{k_i} \\approx 0$\n",
    "\n",
    "Thus, using this in equations 1 and 3 we get:\n",
    "\n",
    "$C_{IS} = K_1C_I C_S$;   ...(3a)\n",
    "\n",
    "$C_{TS} = \\displaystyle\\frac{C_{T}C_S}{K_3}$; and   ...(3b)\n",
    "\n",
    "Substituting these values into the rate equation, we get:\n",
    "\n",
    "$r = r_2 = k_2(C_W K_1C_I C_S - \\displaystyle\\frac{C_{T}C_S}{K_3K_2})$ \n",
    "\n",
    "Since $C_S$ can't be found but we know the total number of sites $C_{S,t}$ as:\n",
    "\n",
    "$C_{S,t} = C_S + C_{IS} + C_{TS} = C_S (1 + K_1C_I + \\displaystyle\\frac{C_T}{K_3})$\n",
    "\n",
    "<div class=\"alert alert-warning\">\n",
    "$\\therefore r = k_2 \\displaystyle\\frac{C_{S,t}}{1 + K_1C_I + \\frac{C_T}{K_3}}(C_W K_1C_I  - \\frac{C_T}{K_3K_2}) = k_2 \\displaystyle\\frac{C_{S,t}}{K_3 + K_3K_1C_I + C_T}(\\frac{K_1K_3K_2C_IC_W - C_T}{K_2})$"
   ]
  },
  {
   "cell_type": "markdown",
   "metadata": {},
   "source": [
    "#### Derive a rate law assuming  Isobutene (I) and water (W) are adsorbed on different sites, the surface reaction is rate-limiting, and TBA immediately desorbs upon synthesis (3 points):\n",
    "\\begin{align}\n",
    "\\ce{ I + S1 &<=> I\\cdot S1}\\\\\n",
    "\\ce{ W + S2 &<=> W\\cdot S2}\\\\\n",
    "\\ce{ I\\cdot S_1 + W \\cdot S_2 &<=> TBA + S_1 + S_2}\\\\\n",
    "\\end{align}"
   ]
  },
  {
   "cell_type": "markdown",
   "metadata": {},
   "source": [
    "The rate of each of the 3 reactions are as follows:\n",
    "\n",
    "$r_1 = k_1C_I C_{S_1} - k_{-1} C_{I {S_1}} = k_1(C_I C_{S_1} - \\displaystyle\\frac{C_{I {S_1}}}{K_1})$    ...(1)\n",
    "\n",
    "$r_2 = k_2(C_W C_{S_2} - \\displaystyle\\frac{C_{WS_2}}{K_2})$ ; T signifies TBA  ...(2)\n",
    "\n",
    "$r_3 = k_3(C_{IS_1}C_{WS_2} - \\displaystyle\\frac{C_TC_{S_1}C_{S_2}}{K_3})$    ...(3)\n",
    "\n",
    "Since surface reaction is rate-limiting, the rate law will be defined by equation 3.\n",
    "\n",
    "The other 2 reactions would approach equilibrium conditions such that: $\\displaystyle\\frac{r_i}{k_i} \\approx 0$\n",
    "\n",
    "Thus, using this in equations 1 and 2 we get:\n",
    "\n",
    "$C_{IS_1} = K_1C_I C_{S_1}$;   ...(3a)\n",
    "\n",
    "$C_{WS_2} = K_2C_WC_{S_2} $; and   ...(3b)\n",
    "\n",
    "Substituting these values into the rate equation, we get:\n",
    "\n",
    "$r = r_3 = k_3(K_1K_2C_I C_{S_1}C_WC_{S_2} - \\displaystyle\\frac{C_TC_{S_1}C_{S_2}}{K_3}) = k_3C_{S_1}C_{S_2}(K_1K_2C_I C_W - \\displaystyle\\frac{C_T}{K_3})$ \n",
    "\n",
    "Now, $C_{S_1}$ and $C_{S_2}$ can't be found but we know the total number of sites $C_{S_1,t}$ and $C_{S_2,t}$ as:\n",
    "\n",
    "$C_{S_1,t} = C_{S_1} + C_{IS_1} = C_{S_1} (1 + K_1C_I)$, and\n",
    "$C_{S_2,t} = C_{S_2} + C_{WS_2} = C_{S_2} (1 + K_2C_W)$\n",
    "\n",
    "<div class=\"alert alert-warning\">\n",
    "$\\therefore r = k_3 \\displaystyle\\frac{C_{S_1,t}}{1 + K_1C_I} \\frac{C_{S_2,t}}{1 + K_2C_W} (K_1K_2C_I C_W - \\frac{C_T}{K_3})$"
   ]
  },
  {
   "cell_type": "markdown",
   "metadata": {},
   "source": [
    "# Catalyst coking (8 pts, completion)"
   ]
  },
  {
   "cell_type": "markdown",
   "metadata": {},
   "source": [
    "We're using a transient CSTR for a heterogenous catalytic reaction, where the reactants/products\n",
    "are in liquid phase and the catalyst is in a solid phase.\n",
    "\\begin{align}\n",
    "\\ce{A + S &<=> A\\cdot S}\\qquad k_1=0.1\\:s^{-1}M^{-1}\\qquad K_1=5\\: M^{-1}\\\\\n",
    "\\ce{B + S &<=> B\\cdot S}\\qquad k_2=0.2\\:s^{-1}M^{-1}\\qquad K_2=4\\: M^{-1}\\\\\n",
    "\\ce{A\\cdot S + B\\cdot S &<=> C\\cdot S + S }\\qquad k_3=0.8\\:s^{-1}M^{-1}\\qquad K_3=1\\\\\n",
    "\\ce{C\\cdot S &<=> C + S }\\qquad k_4=1.5\\:s^{-1}\\qquad K_4=5\\: M\n",
    "\\end{align}\n",
    "The reactor output is filtered to remove particulate matter so that the catalyst slurry is not\n",
    "removed from the reactor (i.e. liquid A, B, C can leave, but A$\\cdot$S, B$\\cdot$S, or C$\\cdot$S\n",
    "cannot). We feed two separate streams:  stream 1 flows at 0.5 L/s with a 2 M concentration of A,\n",
    "and stream 2 flows at 0.5 L/s with a 2 M concentration of B. You may assume ideal mixing, i.e.,\n",
    "$\\dot{V}_1+\\dot{V}_2=\\dot{V}_{total}$. Initially the reactor is charged with 2 M catalyst (S)\n",
    "and no A or B. The reactor has a fixed volume of 100 L."
   ]
  },
  {
   "cell_type": "markdown",
   "metadata": {},
   "source": [
    "## Plot the concentration of C in the reactor as a function of time (4 points)"
   ]
  },
  {
   "cell_type": "code",
   "execution_count": 28,
   "metadata": {},
   "outputs": [
    {
     "data": {
      "image/png": "[encoded data removed]",
      "text/plain": [
       "<Figure size 432x288 with 1 Axes>"
      ]
     },
     "metadata": {},
     "output_type": "display_data"
    }
   ],
   "source": [
    "import numpy as np\n",
    "from scipy.integrate import solve_ivp\n",
    "import matplotlib.pyplot as plt\n",
    "\n",
    "# Rate constants\n",
    "k1f = 0.1\n",
    "k2f = 0.2\n",
    "k3f = 0.8\n",
    "k4f = 1.5\n",
    "K1 = 5\n",
    "K2 = 4\n",
    "K3 = 1\n",
    "K4 = 5\n",
    "k1b = k1f/K1\n",
    "k2b = k2f/K2\n",
    "k3b = k3f/K3\n",
    "k4b = k4f/K4\n",
    "\n",
    "V = 100  # L\n",
    "v10 = 0.5\n",
    "v20 = 0.5\n",
    "v0 = v10 + v20   # L/s\n",
    "\n",
    "Ca0 = 2  # M\n",
    "Cb0 = 2  # M\n",
    "Cs0 = 2.  # M\n",
    "\n",
    "def dCdt(t, C):\n",
    "    Ca, Cb, Cc, Cs, Cas, Cbs, Ccs = C\n",
    "    \n",
    "    r1f = k1f*Ca*Cs\n",
    "    r1b = k1b*Cas\n",
    "    \n",
    "    r2f = k2f*Cb*Cs\n",
    "    r2b = k2b*Cbs\n",
    "    \n",
    "    r3f = k3f*Cas*Cbs\n",
    "    r3b = k3b*Ccs*Cs\n",
    "    \n",
    "    r4f = k4f*Ccs\n",
    "    r4b = k4b*Cc*Cs\n",
    "    \n",
    "    dCadt = (Ca0 * v10 - Ca * v0)/V + (-r1f + r1b)\n",
    "    dCbdt = (Cb0 * v20 - Cb * v0)/V + (-r2f + r2b) \n",
    "    dCcdt = (0 - Cc* v0)/V + (r4f - r4b)        \n",
    "    dCsdt = (-r1f + r1b -r2f + r2b + r3f - r3b + r4f - r4b) \n",
    "    dCasdt = (r1f - r1b - r3f + r3b)\n",
    "    dCbsdt = (r2f - r2b - r3f + r3b) \n",
    "    dCcsdt = (r3f - r3b - r4f + r4b)\n",
    "    return [dCadt, dCbdt, dCcdt, dCsdt, dCasdt, dCbsdt, dCcsdt]\n",
    "\n",
    "tspan = [0, 1000]\n",
    "teval = np.linspace(*tspan, 100)\n",
    "sol = solve_ivp(dCdt, tspan, [0, 0, 0, Cs0, 0, 0, 0], t_eval = teval)\n",
    "\n",
    "Cc = sol.y[2]\n",
    "\n",
    "plt.plot(sol.t, Cc)\n",
    "plt.xlabel('Time [s]')\n",
    "plt.ylabel('Concentration of species C [M]')\n",
    "plt.title('Concentration profile of C as a function of time')\n",
    "plt.show()\n"
   ]
  },
  {
   "cell_type": "markdown",
   "metadata": {},
   "source": [
    "## We discover that there is a small impurity in stream 1 that binds strongly to the catalyst. In addition to A and B there is an additional agent F at 0.02 M, that reacts with the catalyst (4 points):\n",
    "\\begin{align}\n",
    "\\ce{F + S &<=> F\\cdot S}\\qquad k_5=0.1\\: s^{-1}M^{-1},\\qquad K_5=1000\n",
    "\\end{align}\n",
    "Note that this impurity may flow out of the reactor when desorbed (as F), but it may\n",
    "not flow out when adsorbed (as F$\\cdot$S). Plot the concentration of C in the reactor as a function of time."
   ]
  },
  {
   "cell_type": "code",
   "execution_count": 29,
   "metadata": {},
   "outputs": [
    {
     "data": {
      "image/png": "[encoded data removed]",
      "text/plain": [
       "<Figure size 432x288 with 1 Axes>"
      ]
     },
     "metadata": {},
     "output_type": "display_data"
    }
   ],
   "source": [
    "k5f=0.1   #s−1M−1\n",
    "K5=1000\n",
    "k5b = k5f / K5\n",
    "Cf0 = 0.02  # M\n",
    "\n",
    "def dC2dt(t, C):\n",
    "    Ca, Cb, Cc, Cs, Cas, Cbs, Ccs, Cf, Cfs = C\n",
    "    \n",
    "    r1f = k1f*Ca*Cs\n",
    "    r1b = k1b*Cas\n",
    "    \n",
    "    r2f = k2f*Cb*Cs\n",
    "    r2b = k2b*Cbs\n",
    "    \n",
    "    r3f = k3f*Cas*Cbs\n",
    "    r3b = k3b*Ccs*Cs\n",
    "    \n",
    "    r4f = k4f*Ccs\n",
    "    r4b = k4b*Cc*Cs\n",
    "    \n",
    "    r5f = k5f*Cf * Cs\n",
    "    r5b = k5b*Cfs\n",
    "        \n",
    "    dCadt = (Ca0 * v10 - Ca * v0)/V + (-r1f + r1b)\n",
    "    dCbdt = (Cb0 * v20 - Cb * v0)/V + (-r2f + r2b) \n",
    "    dCcdt = (0 - Cc* v0)/V + (r4f - r4b)        \n",
    "    dCsdt = (-r1f + r1b -r2f + r2b + r3f - r3b + r4f - r4b -r5f + r5b) \n",
    "    dCasdt = (r1f - r1b - r3f + r3b)\n",
    "    dCbsdt = (r2f - r2b - r3f + r3b) \n",
    "    dCcsdt = (r3f - r3b - r4f + r4b)\n",
    "    dCfdt = (Cf0 * v10 - Cf * v0)/V + (-r5f + r5b)\n",
    "    dCfsdt = (r5f - r5b)\n",
    "    return [dCadt, dCbdt, dCcdt, dCsdt, dCasdt, dCbsdt, dCcsdt, dCfdt, dCfsdt]\n",
    "\n",
    "tspan = [0, 50000]\n",
    "teval = np.linspace(*tspan, 100)\n",
    "sol2 = solve_ivp(dC2dt, tspan, [0, 0, 0, Cs0, 0, 0, 0, 0, 0], t_eval = teval)\n",
    "\n",
    "Cc = sol2.y[2]\n",
    "\n",
    "plt.plot(sol2.t, Cc)\n",
    "plt.xlabel('Time [s]')\n",
    "plt.ylabel('Concentration of species C [M]')\n",
    "plt.title('Concentration profile of C as a function of time')\n",
    "plt.show()\n"
   ]
  },
  {
   "cell_type": "markdown",
   "metadata": {},
   "source": [
    "# Piazza (2 pts)\n",
    "\n",
    "This week, either submit a question or answer a question for two points. Post the link to your question or answer"
   ]
  },
  {
   "cell_type": "markdown",
   "metadata": {},
   "source": [
    "https://piazza.com/class/jl5aabbtksz62s?cid=416#"
   ]
  }
 ],
 "metadata": {
  "kernelspec": {
   "display_name": "Python 3",
   "language": "python",
   "name": "python3"
  },
  "language_info": {
   "codemirror_mode": {
    "name": "ipython",
    "version": 3
   },
   "file_extension": ".py",
   "mimetype": "text/x-python",
   "name": "python",
   "nbconvert_exporter": "python",
   "pygments_lexer": "ipython3",
   "version": "3.6.3"
  },
  "toc": {
   "base_numbering": 1,
   "nav_menu": {
    "height": "173px",
    "width": "252px"
   },
   "number_sections": true,
   "sideBar": true,
   "skip_h1_title": false,
   "title_cell": "Table of Contents",
   "title_sidebar": "Contents",
   "toc_cell": false,
   "toc_position": {},
   "toc_section_display": "block",
   "toc_window_display": false
  }
 },
 "nbformat": 4,
 "nbformat_minor": 2
}
