{
 "cells": [
  {
   "cell_type": "markdown",
   "metadata": {},
   "source": [
    "# Hougan-Watson kinetics"
   ]
  },
  {
   "cell_type": "markdown",
   "metadata": {},
   "source": [
    "Consider CO oxidation in a catalytic fixed-bed reactor operating isothermally at 838 K and 1.0 atm.\n",
    "\\begin{align}\n",
    "CO + \\frac{1}{2}O_2\\rightarrow CO_2\n",
    "\\end{align}\n",
    "The following rate expression and parameters are adapted from a research paper. The rate expression inside the catalyst particle is assumed to be of the form\n",
    "\\begin{align}\n",
    "r = \\frac{kC_{CO}C_{O2}}{1+KC_{CO}}\n",
    "\\end{align}\n",
    "where \n",
    "\\begin{align}\n",
    "k=8.73\\times 10^{12}\\exp(-13,500/T) [cm^3/mol/s]\\\\\n",
    "K = 8.099\\times 10^6 \\exp(409/T) [cm^3/mol]\\\\\n",
    "D_{CO}=0.0487 [cm^2/s]\n",
    "\\end{align}\n",
    "in which T is in Kelvin. The catalyst pellet radius is 0.1 cm. The feed to the reactor consists of 2 mol % CO, 10 mol % O$_2$, no CO$_2$, and the remainder inert. The bed porosity (volume of pellets compared to total reactor volume) is 70%. We want to find the volume of the reactor that reaches 95% conversion. The flow rate in is 792 L/s. "
   ]
  },
  {
   "cell_type": "markdown",
   "metadata": {},
   "source": [
    "## Calculate the Thiele modulus at the inlet and outlet of the reactor\n"
   ]
  },
  {
   "cell_type": "code",
   "execution_count": 3,
   "metadata": {},
   "outputs": [
    {
     "name": "stdout",
     "output_type": "stream",
     "text": [
      "Thiele modulus at the inlet is 0.0638 and at the outlet of the reactor is 0.1442.\n"
     ]
    }
   ],
   "source": [
    "import numpy as np\n",
    "\n",
    "T = 838 #K \n",
    "P = 1.0 #atm \n",
    "R = 0.08206  #L·atm/K·mol\n",
    "Ct_in = P / (R*T*1000)   # mol/cm3\n",
    "k = 8.73 * 10**12 * np.exp(-13500/T) #cm3/mol/s\n",
    "K = 8.099 * 10**6 * np.exp(409/T)  #cm3/mol\n",
    "D_CO = 0.0487  #cm2/s\n",
    "r = 0.1 # cm\n",
    "a = r/3 # cm\n",
    "Por = 0.7\n",
    "X = 0.95\n",
    "v0 = 792000 #cm3/s\n",
    "                #CO   O2  CO2   I\n",
    "y_in = np.array([0.02, 0.1, 0, 0.88])\n",
    "C_in = Ct_in * y_in     # mol/cm3\n",
    "F_in = Ct_in * v0\n",
    "\n",
    "Alpha = np.array([-1, -0.5, 1, 0])\n",
    "Xi = y_in[0]*Alpha*X\n",
    "y_out = y_in + Xi\n",
    "Ct_out = Ct_in * sum(y_out) / sum(y_in)\n",
    "C_out = Ct_out * y_out             # mol/cm3\n",
    "\n",
    "def Th_mod(C):\n",
    "    Ca, Cb, Cc, Cd = C  #  CO, O2, CO2, Inert\n",
    "    Phi = K * Ca\n",
    "    Th_prime = np.sqrt(k * a*a * Cb / D_CO)\n",
    "    Thiele = (Phi / (1+Phi)) * Th_prime / (np.sqrt(2*(Phi - np.log(1 + Phi))))\n",
    "    return Thiele\n",
    "\n",
    "print(f'Thiele modulus at the inlet is {Th_mod(C_in):1.4f} and at the outlet of the reactor is {Th_mod(C_out):1.4f}.')"
   ]
  },
  {
   "cell_type": "markdown",
   "metadata": {},
   "source": [
    "## Calculate the effectiveness factor at the inlet and outlet  of the reactor"
   ]
  },
  {
   "cell_type": "code",
   "execution_count": 4,
   "metadata": {},
   "outputs": [
    {
     "name": "stdout",
     "output_type": "stream",
     "text": [
      "The effectiveness factor at the inlet is 0.9976 and at the outlet of the reactor is 0.9877.\n"
     ]
    }
   ],
   "source": [
    "def Eta(C):\n",
    "    Ca, Cb, Cc, Cd = C  #  CO, O2, CO2, Inert\n",
    "    Eta = 1 / Th_mod(C) * (1 / np.tanh(3 * Th_mod(C)) - 1 / (3 * Th_mod(C)))\n",
    "    return Eta\n",
    "\n",
    "print(f'The effectiveness factor at the inlet is {Eta(C_in):1.4f} and at the outlet of the reactor is {Eta(C_out):1.4f}.')"
   ]
  },
  {
   "cell_type": "markdown",
   "metadata": {},
   "source": [
    "## Calculate and plot the concentration of each species over the volume of the reactor.  "
   ]
  },
  {
   "cell_type": "code",
   "execution_count": 6,
   "metadata": {},
   "outputs": [
    {
     "data": {
      "image/png": "[encoded data removed]",
      "text/plain": [
       "<Figure size 432x288 with 1 Axes>"
      ]
     },
     "metadata": {},
     "output_type": "display_data"
    }
   ],
   "source": [
    "from scipy.integrate import solve_ivp\n",
    "import matplotlib.pyplot as plt\n",
    "\n",
    "F0 = C_in * v0\n",
    "\n",
    "def dFdV(V, F):\n",
    "    Fa, Fb, Fc, Fd = F\n",
    "    v = v0 * sum(F)/sum(F0)\n",
    "    Ca = Fa / v    # Concentration in mol/cm^3\n",
    "    Cb = Fb / v\n",
    "    Cc = Fc / v\n",
    "    Cd = Fd / v\n",
    "    \n",
    "    r = k * Ca * Cb / (1 + K * Ca)  # Ideal rate\n",
    "    eta = Eta(np.array([Ca,Cb,Cc,Cd]))  # Effectiveness factor\n",
    "    AR = eta * r    # Actual rate\n",
    "    \n",
    "    dFadV = AR * Alpha[0]\n",
    "    dFbdV = AR * Alpha[1]\n",
    "    dFcdV = AR * Alpha[2]\n",
    "    dFddV = AR * Alpha[3]\n",
    "    \n",
    "    return [dFadV, dFbdV, dFcdV, dFddV]\n",
    "\n",
    "def event(V, F):\n",
    "    Fa, Fb, Fc, Fd = F    \n",
    "    return F0[0] * 0.05 - Fa\n",
    "\n",
    "event.terminal = True\n",
    "\n",
    "Vspan = [0, 20000000]  #cm^3, This high guess since the volume is probably in m^3\n",
    "h = 10000  # cc\n",
    "ans = solve_ivp(dFdV, Vspan, F0, dense_output = True, max_step=h, events = event)\n",
    "\n",
    "Vtot = ans.t_events \n",
    "V = ans.t / 1000\n",
    "F = ans.y\n",
    "v = v0 * sum(F)/sum(F0)\n",
    "Ca = F[0] / v * 1000   # Here concentration is in mol/L\n",
    "Cb = F[1] / v * 1000\n",
    "Cc = F[2] / v * 1000\n",
    "Cd = F[3] / v * 1000\n",
    "\n",
    "plt.plot(V, Ca, label = '$C_{CO}$')\n",
    "plt.plot(V, Cb, label = '$C_{O_2}$')\n",
    "plt.plot(V, Cc, label = '$C_{CO_2}$')\n",
    "plt.xlabel('Volume of reactor (in L)')\n",
    "plt.ylabel('Concentration (M)')\n",
    "plt.title('Concentration profile across the reactor')\n",
    "plt.legend()\n",
    "plt.show()"
   ]
  },
  {
   "cell_type": "code",
   "execution_count": 11,
   "metadata": {},
   "outputs": [
    {
     "name": "stdout",
     "output_type": "stream",
     "text": [
      "The total volume of pellets required is: 4348.3849 L.\n",
      "The total volume of reactor required is: 6211.9784 L.\n"
     ]
    }
   ],
   "source": [
    "V_pellet = Vtot[0][0]\n",
    "print(f'The total volume of pellets required is: {V_pellet/1000:1.4f} L.')\n",
    "reactor_V =  V_pellet / 0.7 / 1000\n",
    "print(f'The total volume of reactor required is: {reactor_V:1.4f} L.')"
   ]
  },
  {
   "cell_type": "markdown",
   "metadata": {},
   "source": [
    "## Calculate and plot  the Thiele modulus over the length of the reactor"
   ]
  },
  {
   "cell_type": "code",
   "execution_count": 12,
   "metadata": {},
   "outputs": [
    {
     "data": {
      "image/png": "[encoded data removed]",
      "text/plain": [
       "<Figure size 432x288 with 1 Axes>"
      ]
     },
     "metadata": {},
     "output_type": "display_data"
    }
   ],
   "source": [
    "C = np.array([Ca, Cb, Cc, Cd])\n",
    "Th = []\n",
    "\n",
    "for i in range(len(ans.t)):\n",
    "    C = np.array([Ca[i], Cb[i], Cc[i], Cd[i]]) / 1000  # in mol/cm^3\n",
    "    tm = Th_mod(C)\n",
    "    Th.append(tm)\n",
    "    \n",
    "plt.plot(V, Th)\n",
    "plt.xlabel('Volume of reactor (in L)')\n",
    "plt.ylabel('Thiele modulus')\n",
    "plt.title('Thiele modulus across the length of the reactor')\n",
    "plt.show()"
   ]
  },
  {
   "cell_type": "markdown",
   "metadata": {},
   "source": [
    "# Pellet size effects\n",
    "\n",
    "The first-order irreversible reaction $A->B$ takes place in a 0.3 cm radius spherical catalyst pellet at T=450 K. At 0.7 atm partial of A, the pellet's production rate is $-2.5\\times 10^{-5}$mol/g/s. The pellet density is $0.85 g/cm^3$. The effective diffusivity of A in the pellet is $D_A=0.007 cm^2/s$."
   ]
  },
  {
   "cell_type": "markdown",
   "metadata": {},
   "source": [
    "## Calculate the surface concentration (the concentration of A in the gas, use ideal gas). "
   ]
  },
  {
   "cell_type": "code",
   "execution_count": 14,
   "metadata": {},
   "outputs": [
    {
     "name": "stdout",
     "output_type": "stream",
     "text": [
      "The surface concentration is 1.896e-02 M.\n"
     ]
    }
   ],
   "source": [
    "Pa = 0.7   #atm\n",
    "T = 450    #K\n",
    "R = 0.08206  #L·atm/K·mol\n",
    "\n",
    "Cas = Pa / (R*T)\n",
    "print(f'The surface concentration is {Cas:1.3e} M.')"
   ]
  },
  {
   "cell_type": "markdown",
   "metadata": {},
   "source": [
    "## For the 0.3 cm pellet size, write down the rate of production of the particle in terms of the effectiveness factor (and thus Thiele  modulus)"
   ]
  },
  {
   "cell_type": "markdown",
   "metadata": {},
   "source": [
    "The rate of production can be found as:\n",
    "*Rate of generation of B = - Rate of generation of A*\n",
    "\n",
    "Let $r_A$' = Rate of reaction / mass of catalyst , $\\rho_p$ = pellet density and $r_m$ = Mean radius of shell at radius r\n",
    "\n",
    "$\\therefore$ Rate of generation of A (at radius, r) = $r_A' \\times \\rho_p \\times 4 \\pi r_m^2 dr$\n",
    "\n",
    "Here, the rate is first order and hence: $r_A' = k C_A$\n",
    "\n",
    "effectiveness factor: $\\eta = \\frac{{overall rate}}{{ideal rate}}$ \n",
    "\n",
    "$\\therefore \\eta = \\displaystyle\\frac{\\int_0^R k C_A \\times \\rho_p \\times 4 \\pi r_m^2 dr}{\\int_0^R k C_{A,s} \\times \\rho_p \\times 4 \\pi r_m^2 dr}$\n",
    "; where: $C_A$ is concentration at radius r and $C_{A,s}$ is concentration on the surface\n",
    "\n",
    "For the presently used spherical pellet, the \n",
    "\n",
    "$ \\eta = \\frac{1}{\\Phi}  \\left [\\frac{1}{\\tanh 3 \\Phi} - \\frac{1}{3 \\Phi} \\right]$\n"
   ]
  },
  {
   "cell_type": "markdown",
   "metadata": {},
   "source": [
    "## Solve for the Thiele modulus in the 0.3 cm pellet"
   ]
  },
  {
   "cell_type": "code",
   "execution_count": 15,
   "metadata": {},
   "outputs": [
    {
     "name": "stdout",
     "output_type": "stream",
     "text": [
      "Thiele modulus is 1.9347.\n",
      "Ideal rate is 5.843e-05 mol/g/s.\n"
     ]
    }
   ],
   "source": [
    "import numpy as np\n",
    "from scipy.integrate import solve_ivp\n",
    "from scipy.optimize import fsolve\n",
    "\n",
    "r = 0.3           # cm\n",
    "Ra = 2.5* 10**-5  # mol/g/s\n",
    "Da = 0.007        # cm2/s \n",
    "rho = 0.85        # g/cm3 \n",
    "a = r / 3\n",
    "\n",
    "def thiele(phi):\n",
    "    k = Da * (phi / a)**2                                  # /s\n",
    "    eta = (Ra * rho) / (k * Cas / 1000)\n",
    "    eta2 = 1/phi * (1 / np.tanh(phi * 3) - 1 / (3 * phi))\n",
    "    return eta - eta2\n",
    "\n",
    "Th = fsolve(thiele, 1)\n",
    "thiele, = np.round(Th,4)\n",
    "np.set_printoptions(precision=3)\n",
    "print(f'Thiele modulus is {thiele}.')\n",
    "\n",
    "ideal_rate = Ra / (1/thiele * (1 / np.tanh(thiele * 3) - 1 / (3 * thiele)))\n",
    "kval = Da * (thiele / a)**2  \n",
    "print(f'Ideal rate is {ideal_rate:1.3e} mol/g/s.')"
   ]
  },
  {
   "cell_type": "markdown",
   "metadata": {},
   "source": [
    "## Calculate the thiele modulus for a range of pellet sizes from 1 mm to 5cm and plot the production rate (per volume of pellet) over this size range"
   ]
  },
  {
   "cell_type": "code",
   "execution_count": 16,
   "metadata": {},
   "outputs": [
    {
     "data": {
      "image/png": "[encoded data removed]",
      "text/plain": [
       "<Figure size 432x288 with 1 Axes>"
      ]
     },
     "metadata": {},
     "output_type": "display_data"
    }
   ],
   "source": [
    "import matplotlib.pyplot as plt\n",
    "\n",
    "R = np.linspace(0.1, 5)\n",
    "a = R / 3\n",
    "phi = np.sqrt(kval * a**2 / Da)\n",
    "eta = 1/phi * (1 / np.tanh(phi * 3) - 1 / (3 * phi))\n",
    "Ra = kval * Cas * eta \n",
    "\n",
    "plt.plot(R, Ra)\n",
    "plt.xlabel('Radius (cm)')\n",
    "plt.ylabel('Production rate (mol/s-L)')\n",
    "plt.title('Production rate for various pellet sizes')\n",
    "plt.grid()\n",
    "plt.show()"
   ]
  },
  {
   "cell_type": "markdown",
   "metadata": {},
   "source": [
    "# Piazza (2 pts)\n",
    "\n",
    "This week, either submit a question or answer a question for two points. Post the link to your question or answer"
   ]
  },
  {
   "cell_type": "markdown",
   "metadata": {},
   "source": [
    "https://piazza.com/class/jl5aabbtksz62s?cid=489"
   ]
  }
 ],
 "metadata": {
  "kernelspec": {
   "display_name": "Python 3",
   "language": "python",
   "name": "python3"
  },
  "language_info": {
   "codemirror_mode": {
    "name": "ipython",
    "version": 3
   },
   "file_extension": ".py",
   "mimetype": "text/x-python",
   "name": "python",
   "nbconvert_exporter": "python",
   "pygments_lexer": "ipython3",
   "version": "3.6.3"
  },
  "toc": {
   "base_numbering": 1,
   "nav_menu": {},
   "number_sections": true,
   "sideBar": true,
   "skip_h1_title": false,
   "title_cell": "Table of Contents",
   "title_sidebar": "Contents",
   "toc_cell": false,
   "toc_position": {},
   "toc_section_display": true,
   "toc_window_display": false
  }
 },
 "nbformat": 4,
 "nbformat_minor": 2
}
